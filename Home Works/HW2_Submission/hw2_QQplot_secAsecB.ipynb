{
 "cells": [
  {
   "cell_type": "code",
   "execution_count": null,
   "metadata": {},
   "outputs": [],
   "source": [
    "import statsmodels.api as sm\n",
    "import numpy as np\n",
    "import matplotlib.pyplot as plt\n",
    "from statsmodels.graphics.gofplots import qqplot_2samples\n",
    "\n",
    "x_secA = np.array([47, 63, 71, 39, 47, 49, 43, 37, 81, 69, 38, 13, 29, 61, 49, 53, 57, 23, 58, 17, 73, 33, 29])\n",
    "y_secB = np.array([20, 49, 85, 17, 33, 62, 93, 64, 37, 81, 22, 18, 45, 42, 14, 39, 67, 47, 53, 73, 58, 84, 21])\n",
    "print('Sec A:', np.sort(x_secA))\n",
    "print('Sec B:', np.sort(y_secB))\n",
    "print(\"A sec: 25th percentile: \", np.percentile(x_secA, 25))\n",
    "print(\"A sec: Median: \", np.median(x_secA))\n",
    "print(\"A sec: 75th percentile: \", np.percentile(x_secA, 75))\n",
    "\n",
    "print(\"B sec: 25th percentile: \", np.percentile(y_secB, 25))\n",
    "print(\"B sec: Median: \", np.median(y_secB))\n",
    "print(\"B sec: 75th percentile: \", np.percentile(y_secB, 75))\n",
    "pp_x = sm.ProbPlot(x_secA)\n",
    "pp_y = sm.ProbPlot(y_secB)\n",
    "qqplot_2samples(pp_x, pp_y)\n",
    "\n",
    "\n",
    "# compare x quantiles to y quantiles\n",
    "fig3 = pp_x.qqplot(other=pp_y, line='45', xlabel='Section B', ylabel='Section A')\n",
    "plt.show()\n",
    "\n",
    "#section B is doing better"
   ]
  }
 ],
 "metadata": {
  "kernelspec": {
   "display_name": "Python 3",
   "language": "python",
   "name": "python3"
  },
  "language_info": {
   "codemirror_mode": {
    "name": "ipython",
    "version": 3
   },
   "file_extension": ".py",
   "mimetype": "text/x-python",
   "name": "python",
   "nbconvert_exporter": "python",
   "pygments_lexer": "ipython3",
   "version": "3.7.4"
  }
 },
 "nbformat": 4,
 "nbformat_minor": 2
}
